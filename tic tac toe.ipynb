{
 "cells": [
  {
   "cell_type": "code",
   "execution_count": 3,
   "id": "04816890",
   "metadata": {},
   "outputs": [],
   "source": [
    "board = [\n",
    "    [\"\", \"\", \"\"],\n",
    "    [\"\", \"\", \"\"],\n",
    "    [\"\", \"\", \"\"]\n",
    "]"
   ]
  },
  {
   "cell_type": "code",
   "execution_count": 5,
   "id": "b92c7568",
   "metadata": {},
   "outputs": [],
   "source": [
    "def print_board(board):\n",
    "    for row in board:\n",
    "        print(\"|\".join(row))"
   ]
  },
  {
   "cell_type": "code",
   "execution_count": 6,
   "id": "cabf680f",
   "metadata": {},
   "outputs": [],
   "source": [
    "def get_move(board, player):\n",
    "    while True:\n",
    "        move = input(f\"{player}'s turn. Enter row,col (e.g. 1,2): \")\n",
    "        row, col = move.split(\",\")\n",
    "        row = int(row) - 1\n",
    "        col = int(col) - 1\n",
    "        if board[row][col] == \"\":\n",
    "            board[row][col] = player\n",
    "            break\n",
    "        else:\n",
    "            print(\"That square is already taken. Try again.\")"
   ]
  },
  {
   "cell_type": "code",
   "execution_count": 7,
   "id": "11f12b82",
   "metadata": {},
   "outputs": [],
   "source": [
    "def check_win(board, player):\n",
    "    for i in range(3):\n",
    "        if board[i][0] == board[i][1] == board[i][2] == player:\n",
    "            return True\n",
    "        if board[0][i] == board[1][i] == board[2][i] == player:\n",
    "            return True\n",
    "    if board[0][0] == board[1][1] == board[2][2] == player:\n",
    "        return True\n",
    "    if board[0][2] == board[1][1] == board[2][0] == player:\n",
    "        return True\n",
    "    return False"
   ]
  },
  {
   "cell_type": "code",
   "execution_count": 8,
   "id": "3d82c056",
   "metadata": {},
   "outputs": [],
   "source": [
    "def check_tie(board):\n",
    "    for row in board:\n",
    "        for square in row:\n",
    "            if square == \"\":\n",
    "                return False\n",
    "    return True"
   ]
  },
  {
   "cell_type": "code",
   "execution_count": 9,
   "id": "0319d242",
   "metadata": {},
   "outputs": [],
   "source": [
    "def play_game():\n",
    "    players = [\"X\", \"O\"]\n",
    "    current_player = 0\n",
    "    \n",
    "    while True:\n",
    "        print_board(board)\n",
    "        player = players[current_player]\n",
    "        get_move(board, player)\n",
    "        if check_win(board, player):\n",
    "            print_board(board)\n",
    "            print(f\"{player} wins!\")\n",
    "            break\n",
    "        if check_tie(board):\n",
    "            print_board(board)\n",
    "            print(\"It's a tie!\")\n",
    "            break\n",
    "        current_player = (current_player + 1) % 2"
   ]
  },
  {
   "cell_type": "code",
   "execution_count": null,
   "id": "da0ea708",
   "metadata": {},
   "outputs": [
    {
     "name": "stdout",
     "output_type": "stream",
     "text": [
      "||\n",
      "||\n",
      "||\n",
      "X's turn. Enter row,col (e.g. 1,2): 1,2\n",
      "|X|\n",
      "||\n",
      "||\n"
     ]
    }
   ],
   "source": [
    "play_game()"
   ]
  },
  {
   "cell_type": "code",
   "execution_count": null,
   "id": "96435024",
   "metadata": {},
   "outputs": [],
   "source": []
  }
 ],
 "metadata": {
  "kernelspec": {
   "display_name": "Python 3",
   "language": "python",
   "name": "python3"
  },
  "language_info": {
   "codemirror_mode": {
    "name": "ipython",
    "version": 3
   },
   "file_extension": ".py",
   "mimetype": "text/x-python",
   "name": "python",
   "nbconvert_exporter": "python",
   "pygments_lexer": "ipython3",
   "version": "3.8.8"
  }
 },
 "nbformat": 4,
 "nbformat_minor": 5
}
